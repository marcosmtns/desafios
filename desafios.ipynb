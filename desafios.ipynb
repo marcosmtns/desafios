{
  "nbformat": 4,
  "nbformat_minor": 0,
  "metadata": {
    "colab": {
      "provenance": [],
      "authorship_tag": "ABX9TyPq1rgPi1n1979mBntbEgMV",
      "include_colab_link": true
    },
    "kernelspec": {
      "name": "python3",
      "display_name": "Python 3"
    },
    "language_info": {
      "name": "python"
    }
  },
  "cells": [
    {
      "cell_type": "markdown",
      "metadata": {
        "id": "view-in-github",
        "colab_type": "text"
      },
      "source": [
        "<a href=\"https://colab.research.google.com/github/marcosmtns/desafios/blob/main/desafios.ipynb\" target=\"_parent\"><img src=\"https://colab.research.google.com/assets/colab-badge.svg\" alt=\"Open In Colab\"/></a>"
      ]
    },
    {
      "cell_type": "markdown",
      "source": [
        "Por Marcos Martins da Silva,\n",
        "\n",
        "Desafio 1:"
      ],
      "metadata": {
        "id": "uFcRr9XJIxTW"
      }
    },
    {
      "cell_type": "code",
      "execution_count": 7,
      "metadata": {
        "colab": {
          "base_uri": "https://localhost:8080/"
        },
        "id": "4_oJUNyiIngu",
        "outputId": "ff57c84d-2781-415b-9638-3f08609fb2ed"
      },
      "outputs": [
        {
          "output_type": "stream",
          "name": "stdout",
          "text": [
            "A soma dos valores correspondentes é: 91\n"
          ]
        }
      ],
      "source": [
        "indice = 13\n",
        "soma = 0\n",
        "k = 0\n",
        "\n",
        "while (k < indice):\n",
        "  k = k+1;\n",
        "  soma = soma+k;\n",
        "\n",
        "print(f\"A soma dos valores correspondentes é: {soma}\");\n",
        "\n",
        "# Resposta: o valor da variável soma é: 91."
      ]
    },
    {
      "cell_type": "markdown",
      "source": [
        "Desafio 2:"
      ],
      "metadata": {
        "id": "vGB0J-T_PGy-"
      }
    },
    {
      "cell_type": "code",
      "source": [
        "num = int(input())\n",
        "\n",
        "x = 0\n",
        "y = 1\n",
        "\n",
        "while x < num:\n",
        "    x, y = y, x + y\n",
        "\n",
        "if (x == num):\n",
        "  print(f\"O número {num} está dentro da sequência de Fibonacci.\")\n",
        "else:\n",
        "  print(f\"O número {num} não está dentro da sequência de Fibonacci.\")"
      ],
      "metadata": {
        "colab": {
          "base_uri": "https://localhost:8080/"
        },
        "id": "EYGHeooGKoCz",
        "outputId": "464374ec-4596-4f14-db7a-735e0b51dac3"
      },
      "execution_count": 19,
      "outputs": [
        {
          "output_type": "stream",
          "name": "stdout",
          "text": [
            "3\n",
            "O número 3 está dentro da sequência de Fibonacci.\n"
          ]
        }
      ]
    },
    {
      "cell_type": "markdown",
      "source": [
        "Desafio 3:\n",
        "\n",
        "a) 1, 3, 5, 7, 9 \\\n",
        "O número subsequente é o número anterior acrescido 2, sendo eles ímpares conforme essa ordem.\n",
        "\n",
        "b) 2, 4, 8, 16, 32, 64, 128 \\\n",
        "O número subsequente é o número anterior multiplicado por 2.\n",
        "\n",
        "c) 0, 1, 4, 9, 16, 25, 36, 49 \\\n",
        "O número subsequente é igual ao anterior acrescido de um número ímpar de 1 a 9. Com isso, realizando a subtração dos dois últimos números dá o seguinte resultado: 36-25 = 11, então devemos acrescentar 11+2 = 13 ao último número, obtendo 36 + 13 = 49.\n",
        "\n",
        "d) 4, 16, 36, 64, 100 \\\n",
        "O número subsequente é igual ao quadrado dos números pares. Dessa forma, temos que 64 é igual a 8², então 10 é o próximo número par, e o seu quadrado é 10² = 100.\n",
        "\n",
        "e) 1, 1, 2, 3, 5, 8, 13 \\\n",
        "O número subsequente é igual à soma do número atual com o número anterior, então o próximo número é igual a 8+5 = 13.\n",
        "\n",
        "f) 2, 10, 12, 16, 17, 18, 19, 200 \\\n",
        "Sequência formada por números que iniciam com a letra d, então o próximo número que deve completar a sequência é o 200.\n"
      ],
      "metadata": {
        "id": "EGbukIlSPJuK"
      }
    },
    {
      "cell_type": "markdown",
      "source": [
        "Desafio 4:\n",
        "\n",
        "O carro e o caminhão estarão com a mesma distância da cidade de Ribeirão Preto ao se cruzarem, distância de 60,9 km.\n",
        "\n",
        "Equacão horária dos respectivos veículos:\n",
        "\n",
        "x1 = v1.t (carro), x2 = 100km-v2.t (caminhão);\n",
        "\n",
        "Podemos calcular o tempo de viagem do caminhão sem os obstáculos, para serem contabilizados em seguida:\n",
        "\n",
        "t = (100km)/(80km/h) = 1,25h\n",
        "\n",
        "Agora com o tempo de viagem, podemos acrescentar os 10 minutos perdidos, em hora: 1,25hs+0,17hs = 1,42h;\n",
        "\n",
        "Por fim, a velocidade média:\n",
        "\n",
        "v2 = 100km/1,42h = 70,6km/h\n",
        "\n",
        "Agora com a velocidade média do caminhão, já é possível calcular o momento de cruzamento do caminhão com o carro:\n",
        "\n",
        "t = x1/v1\n",
        "\n",
        "t = x2-100km/-v2\n",
        "\n",
        "x = x2  =>  x/v1 = x-100km/-v2\n",
        "\n",
        "-v2.x = v1.x - v1.100km\n",
        "\n",
        "x = v1.100km/v1+v1 = (100km/h.100km)/(110km/h+70,6km/h)\n",
        "\n",
        "x = 60,9 Km.\n",
        "\n"
      ],
      "metadata": {
        "id": "0pRvufpkUM9N"
      }
    },
    {
      "cell_type": "markdown",
      "source": [
        "Desafio 5:"
      ],
      "metadata": {
        "id": "8f0TyTxHiyZ1"
      }
    },
    {
      "cell_type": "code",
      "source": [
        "lista = []\n",
        "lista2 = []\n",
        "palavra = str(input())\n",
        "\n",
        "for i in palavra:\n",
        "  lista.append(i)\n",
        "\n",
        "for i in range(1, len(lista)+1):\n",
        "  lista2.append(lista[-i])\n",
        "\n",
        "palavraInvertida = \"\".join(lista2)\n",
        "\n",
        "print(f\"A palavra informada de forma invertida é: {palavraInvertida}\")"
      ],
      "metadata": {
        "colab": {
          "base_uri": "https://localhost:8080/"
        },
        "id": "VhZ0DgT2i0zY",
        "outputId": "eb75d7b7-1774-49e2-88ef-dc92787db55f"
      },
      "execution_count": 61,
      "outputs": [
        {
          "output_type": "stream",
          "name": "stdout",
          "text": [
            "desafios\n",
            "A palavra informada de forma invertida é: soifased\n"
          ]
        }
      ]
    }
  ]
}